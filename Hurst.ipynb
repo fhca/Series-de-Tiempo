{
 "cells": [
  {
   "cell_type": "markdown",
   "metadata": {},
   "source": [
    "Exponente de Hurst\n",
    "\n"
   ]
  },
  {
   "cell_type": "code",
   "execution_count": 7,
   "metadata": {},
   "outputs": [],
   "source": [
    "import numpy as np\n",
    "import pandas as pd\n"
   ]
  },
  {
   "cell_type": "code",
   "execution_count": 16,
   "metadata": {},
   "outputs": [
    {
     "data": {
      "text/plain": [
       "<matplotlib.axes._subplots.AxesSubplot at 0x11f5cf518>"
      ]
     },
     "execution_count": 16,
     "metadata": {},
     "output_type": "execute_result"
    },
    {
     "data": {
      "image/png": "[encoded data removed]",
      "text/plain": [
       "<Figure size 432x288 with 1 Axes>"
      ]
     },
     "metadata": {},
     "output_type": "display_data"
    }
   ],
   "source": [
    "tr = np.random.rand(1000)-.5\n",
    "camaleato = pd.Series(np.cumsum(tr))\n",
    "camaleato.plot()"
   ]
  },
  {
   "cell_type": "code",
   "execution_count": 15,
   "metadata": {},
   "outputs": [
    {
     "name": "stdout",
     "output_type": "stream",
     "text": [
      "[1000  500  250  125   62   31   15    7    3    1]\n"
     ]
    }
   ],
   "source": [
    "def hurst(ts):\n",
    "    \"\"\"\n",
    "    Calcula el exponente de Hurst para una serie de tiempo dada.\n",
    "    :param ts: pd.Series\n",
    "    :return: float\n",
    "    \"\"\"\n",
    "    N = ts.size\n",
    "    ns = N//2**np.arange(int(np.log2(N))+1)  # exponentes\n",
    "\n",
    "    for n in ns:\n",
    "        ventanas = ts.rolling(window=n)\n",
    "        m = ventanas.mean()  # medias, los primeros n-1 valores son NaN\n",
    "        for media in m[n:]:\n",
    "            \n",
    "simple = np.arange(16)\n",
    "hurst(simple)"
   ]
  },
  {
   "cell_type": "code",
   "execution_count": 11,
   "metadata": {},
   "outputs": [
    {
     "data": {
      "text/plain": [
       "0            NaN\n",
       "1            NaN\n",
       "2            NaN\n",
       "3            NaN\n",
       "4            NaN\n",
       "5            NaN\n",
       "6            NaN\n",
       "7            NaN\n",
       "8            NaN\n",
       "9            NaN\n",
       "10           NaN\n",
       "11           NaN\n",
       "12           NaN\n",
       "13           NaN\n",
       "14           NaN\n",
       "15     -0.115588\n",
       "16     -0.131898\n",
       "17     -0.152709\n",
       "18     -0.178264\n",
       "19     -0.195914\n",
       "20     -0.203764\n",
       "21     -0.225006\n",
       "22     -0.238857\n",
       "23     -0.218542\n",
       "24     -0.168192\n",
       "25     -0.102428\n",
       "26     -0.040655\n",
       "27      0.019635\n",
       "28      0.069945\n",
       "29      0.139152\n",
       "         ...    \n",
       "970    15.149424\n",
       "971    15.172441\n",
       "972    15.192854\n",
       "973    15.212330\n",
       "974    15.224133\n",
       "975    15.260445\n",
       "976    15.249566\n",
       "977    15.197508\n",
       "978    15.150079\n",
       "979    15.123013\n",
       "980    15.098297\n",
       "981    15.104252\n",
       "982    15.133018\n",
       "983    15.154433\n",
       "984    15.198318\n",
       "985    15.200479\n",
       "986    15.217439\n",
       "987    15.238315\n",
       "988    15.283743\n",
       "989    15.333018\n",
       "990    15.382248\n",
       "991    15.391062\n",
       "992    15.409426\n",
       "993    15.437107\n",
       "994    15.426487\n",
       "995    15.391208\n",
       "996    15.306325\n",
       "997    15.209024\n",
       "998    15.109631\n",
       "999    15.010882\n",
       "Length: 1000, dtype: float64"
      ]
     },
     "execution_count": 11,
     "metadata": {},
     "output_type": "execute_result"
    }
   ],
   "source": [
    "rol.mean()"
   ]
  },
  {
   "cell_type": "code",
   "execution_count": null,
   "metadata": {},
   "outputs": [],
   "source": []
  }
 ],
 "metadata": {
  "kernelspec": {
   "display_name": "Python 3",
   "language": "python",
   "name": "python3"
  },
  "language_info": {
   "codemirror_mode": {
    "name": "ipython",
    "version": 3
   },
   "file_extension": ".py",
   "mimetype": "text/x-python",
   "name": "python",
   "nbconvert_exporter": "python",
   "pygments_lexer": "ipython3",
   "version": "3.7.3"
  }
 },
 "nbformat": 4,
 "nbformat_minor": 2
}
