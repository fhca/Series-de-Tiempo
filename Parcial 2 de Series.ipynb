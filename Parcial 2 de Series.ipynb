{
 "cells": [
  {
   "cell_type": "markdown",
   "metadata": {},
   "source": [
    "2o Parcial de Series de Tiempo 2019"
   ]
  },
  {
   "cell_type": "markdown",
   "metadata": {},
   "source": [
    "1. Utiliza la función `d(x,y)=(x+y)**2+(x-y)**2` como función para una matriz de recurrencia (también llamada \"de correlación\") y aplícala a una serie de 1000 números aleatorios con distribución normal. Muestra el resultado gráfico.\n",
    "\n",
    "2. Determina que tan estacionaria es la serie de los primeros 1000 dígitos decimales de Pi, con la prueba de Dickey-Fuller.\n",
    "\n",
    "3. Del siguiente programa, explica con lujo de detalle cada uno de las líneas, en especial las numeradas, explicando que hace y dá dos ejemplos de su uso (por ejemplo, con las series de las preguntas anteriores de este examen."
   ]
  },
  {
   "cell_type": "code",
   "execution_count": 81,
   "metadata": {},
   "outputs": [
    {
     "name": "stdout",
     "output_type": "stream",
     "text": [
      "1.0061847077037078\n"
     ]
    }
   ],
   "source": [
    "import numpy as np\n",
    "import matplotlib.pyplot as plt\n",
    "\n",
    "def fluctuacion(ventana):\n",
    "    media = np.mean(ventana)  #1\n",
    "    acum = np.cumsum(ventana - media)  #2\n",
    "    return np.max(acum) - np.min(acum)  #3\n",
    "\n",
    "def coord_y(tamano_de_ventana, serie):\n",
    "    n = len(serie)  #4\n",
    "    suma = 0\n",
    "    num_de_ventanas = n-tamano_de_ventana+1  #5\n",
    "    for i in range(num_de_ventanas):  #6\n",
    "        ventana = serie[i:i+tamano_de_ventana]  #7\n",
    "        suma += fluctuacion(ventana) / np.std(ventana)  #8\n",
    "    promedio = suma / num_de_ventanas  #9\n",
    "    return promedio  #10\n",
    "\n",
    "def hurst(serie):\n",
    "    n = len(serie)  #11\n",
    "    exponentes = np.arange(int(np.log2(n)), dtype=int)  #12\n",
    "    tamanos_de_ventana = n//2**exponentes  #13\n",
    "    y = [coord_y(t, serie) for t in tamanos_de_ventana]  #14\n",
    "    yprima = np.log2(y)  #15\n",
    "    xprima = np.log2(tamanos_de_ventana)  #16\n",
    "    m, b = np.polyfit(xprima, yprima, 1)  #17\n",
    "    return m\n",
    "\n",
    "\n",
    "n=2047\n",
    "seriep = np.random.rand(n)-.5  #18\n",
    "serie = np.cumsum(seriep)  #19\n",
    "\n",
    "print(hurst(serie))  #20"
   ]
  },
  {
   "cell_type": "code",
   "execution_count": null,
   "metadata": {},
   "outputs": [],
   "source": []
  }
 ],
 "metadata": {
  "kernelspec": {
   "display_name": "Python 3",
   "language": "python",
   "name": "python3"
  },
  "language_info": {
   "codemirror_mode": {
    "name": "ipython",
    "version": 3
   },
   "file_extension": ".py",
   "mimetype": "text/x-python",
   "name": "python",
   "nbconvert_exporter": "python",
   "pygments_lexer": "ipython3",
   "version": "3.7.3"
  }
 },
 "nbformat": 4,
 "nbformat_minor": 2
}
